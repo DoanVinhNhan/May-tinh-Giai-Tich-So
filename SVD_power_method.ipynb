{
 "cells": [
  {
   "cell_type": "markdown",
   "id": "bd4278aa",
   "metadata": {},
   "source": [
    "# Tìm Giá Trị Kỳ Dị Lớn Nhất của Ma Trận A bằng Phương Pháp Lặp Véctơ Riêng (Power Method)\n",
    "\n",
    "**Ma trận A:**\n",
    "\\[\n",
    "A = \\begin{bmatrix}\n",
    "3 & 3 & 8 & 2 \\\\\n",
    "3 & 9 & 4 & 10 \\\\\n",
    "7 & 10 & 6 & 9 \\\\\n",
    "\\end{bmatrix}\n",
    "\\]\n",
    "\n",
    "**Véctơ khởi đầu:**\n",
    "\\[\n",
    "y^{(0)} = \\begin{bmatrix}1 \\\\ 1 \\\\ 1 \\\\ 1\\end{bmatrix}\n",
    "\\]\n",
    "\n",
    "Ta sẽ áp dụng phương pháp lặp véctơ riêng (power method) để tìm giá trị riêng lớn nhất của $A^T A$, từ đó lấy căn bậc hai để ra giá trị kỳ dị lớn nhất của A. Ở mỗi bước sẽ chuẩn hóa véctơ theo chuẩn 2."
   ]
  },
  {
   "cell_type": "code",
   "execution_count": null,
   "id": "6be6c32f",
   "metadata": {},
   "outputs": [],
   "source": [
    "import numpy as np\n",
    "np.set_printoptions(precision=6, suppress=True)\n",
    "\n",
    "# Định nghĩa ma trận A\n",
    "A = np.array([\n",
    "    [3, 3, 8, 2],\n",
    "    [3, 9, 4, 10],\n",
    "    [7, 10, 6, 9]\n",
    "], dtype=float)\n",
    "\n",
    "# Véctơ khởi đầu y (chuẩn hóa chuẩn 2)\n",
    "y = np.ones((4, 1))\n",
    "y = y / np.linalg.norm(y)\n",
    "print(\"Véctơ khởi đầu (chuẩn hóa):\\n\", y)"
   ]
  },
  {
   "cell_type": "markdown",
   "id": "852616b5",
   "metadata": {},
   "source": [
    "## Tính $A^T A$ (Ma trận đối xứng để tìm giá trị kỳ dị)\n",
    "\n",
    "Giá trị riêng lớn nhất của $A^T A$ sẽ cho ta bình phương giá trị kỳ dị lớn nhất của A."
   ]
  },
  {
   "cell_type": "code",
   "execution_count": null,
   "id": "8e9f38ff",
   "metadata": {},
   "outputs": [],
   "source": [
    "# Tính A^T A\n",
    "ATA = A.T @ A\n",
    "print(\"A^T A =\\n\", ATA)"
   ]
  },
  {
   "cell_type": "markdown",
   "id": "bcabe86b",
   "metadata": {},
   "source": [
    "## Áp dụng Power Method để tìm giá trị riêng lớn nhất của $A^T A$\n",
    "\n",
    "Ở mỗi bước:\n",
    "- Nhân $y^{(k+1)} = A^T A y^{(k)}$\n",
    "- Chuẩn hóa $y^{(k+1)}$ theo chuẩn 2\n",
    "- Tính giá trị riêng gần đúng $\\lambda^{(k+1)} = \\frac{y^{(k+1)T} (A^T A) y^{(k+1)}}{y^{(k+1)T} y^{(k+1)}}$\n",
    "\n",
    "Lặp cho đến khi hội tụ."
   ]
  },
  {
   "cell_type": "code",
   "execution_count": null,
   "id": "0bbdc074",
   "metadata": {},
   "outputs": [],
   "source": [
    "# Số bước lặp\n",
    "num_steps = 6\n",
    "\n",
    "# Lưu các véctơ và giá trị riêng\n",
    "ys = [y]\n",
    "lambdas = []\n",
    "\n",
    "for i in range(num_steps):\n",
    "    y_new = ATA @ ys[-1]\n",
    "    y_new = y_new / np.linalg.norm(y_new)\n",
    "    lambda_new = float(y_new.T @ ATA @ y_new)\n",
    "    ys.append(y_new)\n",
    "    lambdas.append(lambda_new)\n",
    "    print(f\"Bước {i+1}:\")\n",
    "    print(\"  Véctơ riêng (chuẩn hóa):\", y_new.ravel())\n",
    "    print(\"  Giá trị riêng gần đúng:\", lambda_new)\n",
    "    print(\"  Giá trị kỳ dị gần đúng:\", np.sqrt(lambda_new))\n",
    "    print()\n",
    "\n",
    "# Kết quả cuối cùng\n",
    "print(\"Giá trị kỳ dị lớn nhất xấp xỉ:\", np.sqrt(lambdas[-1]))"
   ]
  },
  {
   "cell_type": "markdown",
   "id": "e0b7ba60",
   "metadata": {},
   "source": [
    "## Kết luận\n",
    "\n",
    "- Giá trị kỳ dị lớn nhất của ma trận A là căn bậc hai của giá trị riêng lớn nhất vừa tìm được.\n",
    "- Véctơ riêng cuối cùng (sau chuẩn hóa) là véctơ riêng ứng với giá trị kỳ dị lớn nhất.\n",
    "\n",
    "Bạn có thể tiếp tục lặp thêm để hội tụ chính xác hơn."
   ]
  }
 ],
 "metadata": {
  "language_info": {
   "name": "python"
  }
 },
 "nbformat": 4,
 "nbformat_minor": 5
}
